{
  "nbformat": 4,
  "nbformat_minor": 0,
  "metadata": {
    "colab": {
      "name": "Assignment 2.ipynb",
      "provenance": [],
      "collapsed_sections": [],
      "authorship_tag": "ABX9TyMvx/CFA47mJV1qP45998/b",
      "include_colab_link": true
    },
    "kernelspec": {
      "name": "python3",
      "display_name": "Python 3"
    },
    "language_info": {
      "name": "python"
    }
  },
  "cells": [
    {
      "cell_type": "markdown",
      "metadata": {
        "id": "view-in-github",
        "colab_type": "text"
      },
      "source": [
        "<a href=\"https://colab.research.google.com/github/aadi-29/machinelearning/blob/main/Maximum_Cleaning.ipynb\" target=\"_parent\"><img src=\"https://colab.research.google.com/assets/colab-badge.svg\" alt=\"Open In Colab\"/></a>"
      ]
    },
    {
      "cell_type": "code",
      "metadata": {
        "colab": {
          "base_uri": "https://localhost:8080/",
          "height": 1000
        },
        "id": "qy_aIketsOff",
        "outputId": "e401b442-a0e4-4113-9168-a9ffb86d02f5"
      },
      "source": [
        "import pandas as pd\n",
        "import matplotlib.pyplot as plt\n",
        "\n",
        "lables=[\"id\",\"Clump Thickness\",\"Uniformity of Cell Size\",\"Uniformity of Cell Shape\",\"Marginal Adhesion\",\"Single Epithelial Cell Size\",\"Bare Nuclei\",\"Bland Chromatin\",\"Normal Nucleoli\",\"Mitoses\",\"class_label\"]\n",
        "df= pd.read_csv(r\"breast-cancer-wisconsin.csv\", index_col=0, names=lables)\n",
        "c=[]\n",
        "df2=df.replace(to_replace =\"?\",value =-1)\n",
        "df2=df2.astype(int)\n",
        "for i in range(1,10):\n",
        "    for j in range(2,11):\n",
        "        s1=df2[(df2[lables[i]]<j) & (df2[lables[i]]>0)]\n",
        "        s2=df2[df2[lables[i]]>=j]\n",
        "        l1=[s1[s1[\"class_label\"]==2].size, s1[s1[\"class_label\"]==4].size]\n",
        "        l2=[s2[s2[\"class_label\"]==2].size, s2[s2[\"class_label\"]==4].size]\n",
        "        cs1=1-((l1[0]/(l1[0]+l1[1]))**2+(l1[1]/(l1[0]+l1[1]))**2)\n",
        "        cs2=1-((l2[0]/(l2[0]+l2[1]))**2+(l2[1]/(l2[0]+l2[1]))**2)\n",
        "        t=((s1.size*cs1)+(s2.size*cs2))/(s1.size+s2.size)\n",
        "        c.append([t,lables[i],j])\n",
        "        print(\"Clean(\"+str(lables[i])+\", \"+str(j)+\") =\",c[len(c)-1][0])\n",
        "print(\"Maximum clean-ness value:\",\"\\n\")\n",
        "print(min(c),\"\\n\")\n",
        "m=min(c)\n",
        "s11=df[df['class_label']==2]\n",
        "s22=df[df['class_label']==4]\n",
        "plt.hist(s11[m[1]],label=\"Single Epithelial Cell Size\",bins=6)\n",
        "plt.hist(s22[m[1]],label=\"Single Epithelial Cell Size\",bins=6, alpha=0.7)\n",
        "plt.legend(\"class_label_2\",\"class_label_4\")\n",
        "plt.show()"
      ],
      "execution_count": null,
      "outputs": [
        {
          "output_type": "stream",
          "text": [
            "Clean(Clump Thickness, 2) = 0.3968310262370867\n",
            "Clean(Clump Thickness, 3) = 0.3779852955818621\n",
            "Clean(Clump Thickness, 4) = 0.33005446467393523\n",
            "Clean(Clump Thickness, 5) = 0.2830726740872174\n",
            "Clean(Clump Thickness, 6) = 0.23854012302948574\n",
            "Clean(Clump Thickness, 7) = 0.23657213566906413\n",
            "Clean(Clump Thickness, 8) = 0.27544764362915136\n",
            "Clean(Clump Thickness, 9) = 0.33612024599149054\n",
            "Clean(Clump Thickness, 10) = 0.35777187365170204\n",
            "Clean(Uniformity of Cell Size, 2) = 0.17923904898153825\n",
            "Clean(Uniformity of Cell Size, 3) = 0.1328709863759936\n",
            "Clean(Uniformity of Cell Size, 4) = 0.13520676276119817\n",
            "Clean(Uniformity of Cell Size, 5) = 0.18307385018189754\n",
            "Clean(Uniformity of Cell Size, 6) = 0.24435179982643432\n",
            "Clean(Uniformity of Cell Size, 7) = 0.28541024134558424\n",
            "Clean(Uniformity of Cell Size, 8) = 0.313760448572352\n",
            "Clean(Uniformity of Cell Size, 9) = 0.3558274699023903\n",
            "Clean(Uniformity of Cell Size, 10) = 0.3607866572499593\n",
            "Clean(Uniformity of Cell Shape, 2) = 0.21716473012737694\n",
            "Clean(Uniformity of Cell Shape, 3) = 0.15239865056320825\n",
            "Clean(Uniformity of Cell Shape, 4) = 0.1422510092037988\n",
            "Clean(Uniformity of Cell Shape, 5) = 0.1825891038477428\n",
            "Clean(Uniformity of Cell Shape, 6) = 0.23914608211502938\n",
            "Clean(Uniformity of Cell Shape, 7) = 0.28185529754081523\n",
            "Clean(Uniformity of Cell Shape, 8) = 0.32433171324885496\n",
            "Clean(Uniformity of Cell Shape, 9) = 0.36378242013150835\n",
            "Clean(Uniformity of Cell Shape, 10) = 0.37412037254022357\n",
            "Clean(Marginal Adhesion, 2) = 0.2543392381419309\n",
            "Clean(Marginal Adhesion, 3) = 0.24010416235253557\n",
            "Clean(Marginal Adhesion, 4) = 0.23314591478924845\n",
            "Clean(Marginal Adhesion, 5) = 0.27560023471963446\n",
            "Clean(Marginal Adhesion, 6) = 0.2999809745478985\n",
            "Clean(Marginal Adhesion, 7) = 0.3203886197670316\n",
            "Clean(Marginal Adhesion, 8) = 0.34133035971514897\n",
            "Clean(Marginal Adhesion, 9) = 0.37918421353106724\n",
            "Clean(Marginal Adhesion, 10) = 0.38249536120407546\n",
            "Clean(Single Epithelial Cell Size, 2) = 0.43672436372545553\n",
            "Clean(Single Epithelial Cell Size, 3) = 0.17923728231460911\n",
            "Clean(Single Epithelial Cell Size, 4) = 0.21759380663520975\n",
            "Clean(Single Epithelial Cell Size, 5) = 0.28254718604280377\n",
            "Clean(Single Epithelial Cell Size, 6) = 0.33001733432923525\n",
            "Clean(Single Epithelial Cell Size, 7) = 0.38540604055320404\n",
            "Clean(Single Epithelial Cell Size, 8) = 0.39160040367745724\n",
            "Clean(Single Epithelial Cell Size, 9) = 0.4131119023822886\n",
            "Clean(Single Epithelial Cell Size, 10) = 0.41579267050835333\n",
            "Clean(Bare Nuclei, 2) = 0.17533827504360622\n",
            "Clean(Bare Nuclei, 3) = 0.15667150820826017\n",
            "Clean(Bare Nuclei, 4) = 0.16014777738733071\n",
            "Clean(Bare Nuclei, 5) = 0.17661796605779082\n",
            "Clean(Bare Nuclei, 6) = 0.19586931373014815\n",
            "Clean(Bare Nuclei, 7) = 0.20446068232332618\n",
            "Clean(Bare Nuclei, 8) = 0.21651457955015052\n",
            "Clean(Bare Nuclei, 9) = 0.2492390541798942\n",
            "Clean(Bare Nuclei, 10) = 0.2663887132841491\n",
            "Clean(Bland Chromatin, 2) = 0.39069449050044275\n",
            "Clean(Bland Chromatin, 3) = 0.2846207204907548\n",
            "Clean(Bland Chromatin, 4) = 0.16868555526265297\n",
            "Clean(Bland Chromatin, 5) = 0.21987209758322282\n",
            "Clean(Bland Chromatin, 6) = 0.2689400233032511\n",
            "Clean(Bland Chromatin, 7) = 0.28296671095908094\n",
            "Clean(Bland Chromatin, 8) = 0.3726573676680974\n",
            "Clean(Bland Chromatin, 9) = 0.41196576803474594\n",
            "Clean(Bland Chromatin, 10) = 0.4265213717892803\n",
            "Clean(Normal Nucleoli, 2) = 0.2316320961580071\n",
            "Clean(Normal Nucleoli, 3) = 0.18688292333135392\n",
            "Clean(Normal Nucleoli, 4) = 0.2287647646422953\n",
            "Clean(Normal Nucleoli, 5) = 0.26007227353064716\n",
            "Clean(Normal Nucleoli, 6) = 0.28706068866549916\n",
            "Clean(Normal Nucleoli, 7) = 0.30928452728373085\n",
            "Clean(Normal Nucleoli, 8) = 0.3278787192311031\n",
            "Clean(Normal Nucleoli, 9) = 0.34969074828037333\n",
            "Clean(Normal Nucleoli, 10) = 0.3697175992573358\n",
            "Clean(Mitoses, 2) = 0.3278385603909854\n",
            "Clean(Mitoses, 3) = 0.3533312445639227\n",
            "Clean(Mitoses, 4) = 0.3944209070178384\n",
            "Clean(Mitoses, 5) = 0.4109435547421961\n",
            "Clean(Mitoses, 6) = 0.41544102619588597\n",
            "Clean(Mitoses, 7) = 0.41942641091898986\n",
            "Clean(Mitoses, 8) = 0.4276471231226177\n",
            "Clean(Mitoses, 9) = 0.43426375531259465\n",
            "Clean(Mitoses, 10) = 0.43426375531259465\n",
            "Maximum clean-ness value: \n",
            "\n",
            "[0.1328709863759936, 'Uniformity of Cell Size', 3] \n",
            "\n"
          ],
          "name": "stdout"
        },
        {
          "output_type": "stream",
          "text": [
            "/usr/local/lib/python3.7/dist-packages/ipykernel_launcher.py:27: UserWarning: The handle '_' has a label of '_' which cannot be automatically added to the legend.\n",
            "/usr/local/lib/python3.7/dist-packages/ipykernel_launcher.py:27: UserWarning: Legend does not support 'c' instances.\n",
            "A proxy artist may be used instead.\n",
            "See: http://matplotlib.org/users/legend_guide.html#creating-artists-specifically-for-adding-to-the-legend-aka-proxy-artists\n",
            "/usr/local/lib/python3.7/dist-packages/ipykernel_launcher.py:27: UserWarning: Legend does not support 'l' instances.\n",
            "A proxy artist may be used instead.\n",
            "See: http://matplotlib.org/users/legend_guide.html#creating-artists-specifically-for-adding-to-the-legend-aka-proxy-artists\n",
            "/usr/local/lib/python3.7/dist-packages/ipykernel_launcher.py:27: UserWarning: Legend does not support 'a' instances.\n",
            "A proxy artist may be used instead.\n",
            "See: http://matplotlib.org/users/legend_guide.html#creating-artists-specifically-for-adding-to-the-legend-aka-proxy-artists\n",
            "/usr/local/lib/python3.7/dist-packages/ipykernel_launcher.py:27: UserWarning: Legend does not support 's' instances.\n",
            "A proxy artist may be used instead.\n",
            "See: http://matplotlib.org/users/legend_guide.html#creating-artists-specifically-for-adding-to-the-legend-aka-proxy-artists\n",
            "/usr/local/lib/python3.7/dist-packages/ipykernel_launcher.py:27: UserWarning: Legend does not support 'b' instances.\n",
            "A proxy artist may be used instead.\n",
            "See: http://matplotlib.org/users/legend_guide.html#creating-artists-specifically-for-adding-to-the-legend-aka-proxy-artists\n",
            "/usr/local/lib/python3.7/dist-packages/ipykernel_launcher.py:27: UserWarning: Legend does not support 'e' instances.\n",
            "A proxy artist may be used instead.\n",
            "See: http://matplotlib.org/users/legend_guide.html#creating-artists-specifically-for-adding-to-the-legend-aka-proxy-artists\n",
            "/usr/local/lib/python3.7/dist-packages/ipykernel_launcher.py:27: UserWarning: Legend does not support '2' instances.\n",
            "A proxy artist may be used instead.\n",
            "See: http://matplotlib.org/users/legend_guide.html#creating-artists-specifically-for-adding-to-the-legend-aka-proxy-artists\n"
          ],
          "name": "stderr"
        },
        {
          "output_type": "display_data",
          "data": {
            "image/png": "[encoded data removed]",
            "text/plain": [
              "<Figure size 432x288 with 1 Axes>"
            ]
          },
          "metadata": {
            "tags": [],
            "needs_background": "light"
          }
        }
      ]
    }
  ]
}