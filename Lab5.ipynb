{
  "nbformat": 4,
  "nbformat_minor": 0,
  "metadata": {
    "colab": {
      "name": "Lab5.ipynb",
      "provenance": [],
      "authorship_tag": "ABX9TyN8rZ8ZwcFFQ8RF/UYWtZm5",
      "include_colab_link": true
    },
    "kernelspec": {
      "name": "python3",
      "display_name": "Python 3"
    },
    "language_info": {
      "name": "python"
    }
  },
  "cells": [
    {
      "cell_type": "markdown",
      "metadata": {
        "id": "view-in-github",
        "colab_type": "text"
      },
      "source": [
        "<a href=\"https://colab.research.google.com/github/aadi-29/machinelearning/blob/main/Lab5.ipynb\" target=\"_parent\"><img src=\"https://colab.research.google.com/assets/colab-badge.svg\" alt=\"Open In Colab\"/></a>"
      ]
    },
    {
      "cell_type": "code",
      "metadata": {
        "id": "HJGVocNilaHS"
      },
      "source": [
        "import pandas as pd\n",
        "import statistics\n",
        "\n",
        "columns=['Sample code number','Clump Thickness','Uniformity of Cell Size','Uniformity of Cell Shape','Marginal Adhesion ',\n",
        "         'Single Epithelial Cell Size','Bare Nuclei','Bland Chromatin','Normal Nucleoli','Mitoses'\n",
        "         ,'class']\n",
        "\n",
        "data=pd.read_csv(\"breast-cancer-wisconsin.csv\")         \n",
        "data.columns=columns"
      ],
      "execution_count": 1,
      "outputs": []
    },
    {
      "cell_type": "code",
      "metadata": {
        "colab": {
          "base_uri": "https://localhost:8080/"
        },
        "id": "ZO0hNAFfmKpK",
        "outputId": "c6673232-5ef5-4d9b-b2aa-3b4a1342a06c"
      },
      "source": [
        "data.drop(data.loc[data['Bare Nuclei']=='?'].index, inplace=True)\n",
        "data[columns] = data[columns].apply(pd.to_numeric)\n",
        "\n",
        "features=['Clump Thickness','Uniformity of Cell Size','Uniformity of Cell Shape','Marginal Adhesion ',\n",
        "         'Single Epithelial Cell Size','Bare Nuclei','Bland Chromatin','Normal Nucleoli','Mitoses']\n",
        "\n",
        "\n",
        "print(data.shape)"
      ],
      "execution_count": 2,
      "outputs": [
        {
          "output_type": "stream",
          "name": "stdout",
          "text": [
            "(682, 11)\n"
          ]
        }
      ]
    },
    {
      "cell_type": "code",
      "metadata": {
        "colab": {
          "base_uri": "https://localhost:8080/"
        },
        "id": "pqCqL2jBmSh_",
        "outputId": "357394c1-51d7-4988-cd87-ed3287ae9ff8"
      },
      "source": [
        "part1 = data.sample(frac = 0.5)\n",
        "part2 = data.drop(part1.index)\n",
        "print(\"\\n50% of the givem DataFrame:\")\n",
        "print(part1)\n",
        "print(\"\\nrest 50% of the given DataFrame:\")\n",
        "print(part2)\n",
        "\n",
        "mle=[]\n",
        "x2_valu=[]\n",
        "for k in range(0,10):\n",
        "    x=part1.sample(frac=0.40)\n",
        "    x_2=x[x['class']==2]\n",
        "    \n",
        "    m=x_2.shape[0]*5/(data.shape[0])\n",
        "    x2_valu.append(x_2.shape[0])\n",
        "    mle.append(m)    \n",
        "    \n",
        "    \n",
        "print(\"MLE = \",mle)\n",
        "print()\n",
        "print(\"Standard Deviation of sample is % s \"\n",
        "                % (statistics.stdev(mle)))\n",
        "\n",
        "print(\"Mean of sample is % s \"\n",
        "                % (statistics.mean(mle)))\n",
        "\n",
        "\n",
        "s=part2[part2['class']==2]   ###y\n",
        "a=[1,5,10]\n",
        "map_val=[]\n",
        "for i in a:\n",
        "    alpha=s.shape[0]/(data.shape[0]/2)*(i)\n",
        "    beta=((data.shape[0]/2)-s.shape[0])/(data.shape[0]/2)*(i)\n",
        "    mu_map=list()\n",
        "    for x in x2_valu :\n",
        "\n",
        "      mu_map.append((x+ alpha -1)/(data.shape[0]/2+alpha+beta-2))\n",
        "    print(mu_map)\n",
        "    print()\n",
        "    print(\"Standard Deviation of sample is % s \"\n",
        "                % (statistics.stdev(mu_map)))\n",
        "    print()\n",
        "\n",
        "    print(\"Mean of sample is % s \"\n",
        "                % (statistics.mean(mu_map)))\n",
        "    map_val.append(mu_map)\n",
        "     \n"
      ],
      "execution_count": 5,
      "outputs": [
        {
          "output_type": "stream",
          "name": "stdout",
          "text": [
            "\n",
            "50% of the givem DataFrame:\n",
            "     Sample code number  Clump Thickness  ...  Mitoses  class\n",
            "97              1165926                9  ...       10      4\n",
            "302              646904                1  ...        1      2\n",
            "559             1321942                5  ...        1      2\n",
            "193             1212422                3  ...        1      2\n",
            "409             1238021                1  ...        1      2\n",
            "..                  ...              ...  ...      ...    ...\n",
            "461             1276091                6  ...        1      2\n",
            "167             1198641                3  ...        1      2\n",
            "75              1132347                1  ...        1      2\n",
            "74              1131294                1  ...        1      2\n",
            "104             1169049                7  ...        7      4\n",
            "\n",
            "[341 rows x 11 columns]\n",
            "\n",
            "rest 50% of the given DataFrame:\n",
            "     Sample code number  Clump Thickness  ...  Mitoses  class\n",
            "0               1002945                5  ...        1      2\n",
            "2               1016277                6  ...        1      2\n",
            "5               1018099                1  ...        1      2\n",
            "7               1033078                2  ...        5      2\n",
            "9               1035283                1  ...        1      2\n",
            "..                  ...              ...  ...      ...    ...\n",
            "691              714039                3  ...        1      2\n",
            "692              763235                3  ...        2      2\n",
            "693              776715                3  ...        1      2\n",
            "696              897471                4  ...        1      4\n",
            "697              897471                4  ...        1      4\n",
            "\n",
            "[341 rows x 11 columns]\n",
            "MLE =  [0.6598240469208211, 0.6158357771260997, 0.6085043988269795, 0.5865102639296188, 0.6818181818181818, 0.6598240469208211, 0.6451612903225806, 0.7038123167155426, 0.6378299120234604, 0.6158357771260997]\n",
            "\n",
            "Standard Deviation of sample is 0.03595781761867585 \n",
            "Mean of sample is 0.6414956011730205 \n",
            "[0.26371398999482487, 0.24606693117129547, 0.24312575470070724, 0.23430222528894254, 0.2725375194065896, 0.26371398999482487, 0.2578316370536484, 0.28136104881835433, 0.2548904605830602, 0.24606693117129547]\n",
            "\n",
            "Standard Deviation of sample is 0.01442543036231585 \n",
            "\n",
            "Mean of sample is 0.2563610488183543 \n",
            "[0.2683540203232626, 0.25091215985814636, 0.2480051831139603, 0.23928425288140218, 0.27707495055582076, 0.2683540203232626, 0.26254006683489056, 0.2857958807883789, 0.2596330900907045, 0.25091215985814636]\n",
            "\n",
            "Standard Deviation of sample is 0.01425769279996333 \n",
            "\n",
            "Mean of sample is 0.26108657846279754 \n",
            "[0.2740044870556008, 0.25681250997823696, 0.2539471804653429, 0.245351191926661, 0.28260047559428275, 0.2740044870556008, 0.26827382802981287, 0.29119646413296474, 0.2654084985169189, 0.25681250997823696]\n",
            "\n",
            "Standard Deviation of sample is 0.014053427860135777 \n",
            "\n",
            "Mean of sample is 0.2668411632733659 \n"
          ]
        }
      ]
    }
  ]
}