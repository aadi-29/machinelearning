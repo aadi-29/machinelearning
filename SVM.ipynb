{
  "nbformat": 4,
  "nbformat_minor": 0,
  "metadata": {
    "colab": {
      "name": "SVM.ipynb",
      "provenance": [],
      "collapsed_sections": [],
      "authorship_tag": "ABX9TyPwk+6QDbDncTkuPhmdOznW",
      "include_colab_link": true
    },
    "kernelspec": {
      "name": "python3",
      "display_name": "Python 3"
    },
    "language_info": {
      "name": "python"
    }
  },
  "cells": [
    {
      "cell_type": "markdown",
      "metadata": {
        "id": "view-in-github",
        "colab_type": "text"
      },
      "source": [
        "<a href=\"https://colab.research.google.com/github/aadi-29/machinelearning/blob/main/SVM.ipynb\" target=\"_parent\"><img src=\"https://colab.research.google.com/assets/colab-badge.svg\" alt=\"Open In Colab\"/></a>"
      ]
    },
    {
      "cell_type": "code",
      "metadata": {
        "id": "qFy6X730r0Bp"
      },
      "source": [
        "from sklearn import datasets\n",
        "from sklearn import svm\n",
        "from sklearn import metrics\n",
        "from sklearn.pipeline import make_pipeline\n",
        "from sklearn.preprocessing import StandardScaler\n",
        "from sklearn.model_selection import train_test_split\n",
        "from matplotlib import pyplot as plt\n",
        "from sklearn.svm import SVC\n",
        "from sklearn.metrics import accuracy_score"
      ],
      "execution_count": 102,
      "outputs": []
    },
    {
      "cell_type": "code",
      "metadata": {
        "id": "gzc2OwFQr3Ho"
      },
      "source": [
        "iris = datasets.load_iris()\n",
        "X_train, X_test, y_train, y_test = train_test_split(\n",
        "    iris.data,\n",
        "    iris.target,\n",
        "    test_size=0.4,\n",
        "    random_state=80\n",
        ")"
      ],
      "execution_count": 104,
      "outputs": []
    },
    {
      "cell_type": "code",
      "metadata": {
        "colab": {
          "base_uri": "https://localhost:8080/"
        },
        "id": "APuWdb_u5CV-",
        "outputId": "1edf535b-4516-4ed8-ed83-10bc953d7cd4"
      },
      "source": [
        "accuracy_scores = []\n",
        "c=0.01\n",
        "while c <= 10:\n",
        "  clf = SVC(C=c, kernel = 'linear')\n",
        "  clf.fit(X_train, y_train)\n",
        "  y_predict = clf.predict(X_test)\n",
        "  accuracy_scores.append(accuracy_score(y_test,y_predict))\n",
        "  print('C:', c, 'Accuracy:', accuracy_scores[-1])\n",
        "  c*=10"
      ],
      "execution_count": 105,
      "outputs": [
        {
          "output_type": "stream",
          "name": "stdout",
          "text": [
            "C: 0.01 Accuracy: 0.5666666666666667\n",
            "C: 0.1 Accuracy: 0.9333333333333333\n",
            "C: 1.0 Accuracy: 0.95\n",
            "C: 10.0 Accuracy: 0.9333333333333333\n"
          ]
        }
      ]
    },
    {
      "cell_type": "code",
      "metadata": {
        "colab": {
          "base_uri": "https://localhost:8080/"
        },
        "id": "d_GfdvBit39-",
        "outputId": "8ab0a31b-470b-4288-e5f1-3a2aebb754f3"
      },
      "source": [
        "all_accuracies = list()\n",
        "x_axis = ['0.01', '0.1', '1', '10', '100', '1000']\n",
        "for j in range(0, 6):\n",
        "    accuracies = list()\n",
        "    p_val = (1 * j)\n",
        "    print(f\"P: {p_val}\")\n",
        "    for i in range(0, 6):\n",
        "        C_val = 0.01 * (10**i)\n",
        "\n",
        "        clf = make_pipeline(\n",
        "            StandardScaler(),\n",
        "            svm.SVC(\n",
        "                kernel='poly',\n",
        "                degree=p_val,\n",
        "                C=C_val\n",
        "            )\n",
        "        )\n",
        "        clf.fit(X_train, y_train)\n",
        "        y_pred = clf.predict(X_test)\n",
        "\n",
        "        accuracy = metrics.accuracy_score(y_test, y_pred)\n",
        "\n",
        "        print(f\"Accuracy: {str(accuracy)[:5]}, C: {C_val}\")\n",
        "\n",
        "        accuracies.append(accuracy)\n",
        "    all_accuracies.append(accuracies)\n",
        "\n",
        "    print()"
      ],
      "execution_count": 106,
      "outputs": [
        {
          "output_type": "stream",
          "name": "stdout",
          "text": [
            "P: 0\n",
            "Accuracy: 0.216, C: 0.01\n",
            "Accuracy: 0.216, C: 0.1\n",
            "Accuracy: 0.216, C: 1.0\n",
            "Accuracy: 0.216, C: 10.0\n",
            "Accuracy: 0.216, C: 100.0\n",
            "Accuracy: 0.216, C: 1000.0\n",
            "\n",
            "P: 1\n",
            "Accuracy: 0.55, C: 0.01\n",
            "Accuracy: 0.716, C: 0.1\n",
            "Accuracy: 0.933, C: 1.0\n",
            "Accuracy: 0.933, C: 10.0\n",
            "Accuracy: 0.933, C: 100.0\n",
            "Accuracy: 0.933, C: 1000.0\n",
            "\n",
            "P: 2\n",
            "Accuracy: 0.216, C: 0.01\n",
            "Accuracy: 0.45, C: 0.1\n",
            "Accuracy: 0.9, C: 1.0\n",
            "Accuracy: 0.966, C: 10.0\n",
            "Accuracy: 0.916, C: 100.0\n",
            "Accuracy: 0.933, C: 1000.0\n",
            "\n",
            "P: 3\n",
            "Accuracy: 0.55, C: 0.01\n",
            "Accuracy: 0.583, C: 0.1\n",
            "Accuracy: 0.95, C: 1.0\n",
            "Accuracy: 0.933, C: 10.0\n",
            "Accuracy: 0.95, C: 100.0\n",
            "Accuracy: 0.95, C: 1000.0\n",
            "\n",
            "P: 4\n",
            "Accuracy: 0.266, C: 0.01\n",
            "Accuracy: 0.5, C: 0.1\n",
            "Accuracy: 0.916, C: 1.0\n",
            "Accuracy: 0.933, C: 10.0\n",
            "Accuracy: 0.9, C: 100.0\n",
            "Accuracy: 0.933, C: 1000.0\n",
            "\n",
            "P: 5\n",
            "Accuracy: 0.533, C: 0.01\n",
            "Accuracy: 0.55, C: 0.1\n",
            "Accuracy: 0.95, C: 1.0\n",
            "Accuracy: 0.95, C: 10.0\n",
            "Accuracy: 0.933, C: 100.0\n",
            "Accuracy: 0.916, C: 1000.0\n",
            "\n"
          ]
        }
      ]
    },
    {
      "cell_type": "code",
      "metadata": {
        "colab": {
          "base_uri": "https://localhost:8080/",
          "height": 312
        },
        "id": "ykiZ31AduIsa",
        "outputId": "7d9a8dd9-aed2-4ef2-a297-5877e2d655b9"
      },
      "source": [
        "plt.title(f'P=0')\n",
        "plt.xlabel('C')\n",
        "plt.ylabel('Accuracy')\n",
        "plt.plot(x_axis, all_accuracies[0])\n"
      ],
      "execution_count": 107,
      "outputs": [
        {
          "output_type": "execute_result",
          "data": {
            "text/plain": [
              "[<matplotlib.lines.Line2D at 0x7f74e7af4dd0>]"
            ]
          },
          "metadata": {},
          "execution_count": 107
        },
        {
          "output_type": "display_data",
          "data": {
            "image/png": "[encoded data removed]",
            "text/plain": [
              "<Figure size 432x288 with 1 Axes>"
            ]
          },
          "metadata": {
            "needs_background": "light"
          }
        }
      ]
    },
    {
      "cell_type": "code",
      "metadata": {
        "colab": {
          "base_uri": "https://localhost:8080/",
          "height": 312
        },
        "id": "ATSRCC5WuMJw",
        "outputId": "12af5b1f-92e4-41dd-ae70-f587e952f4ec"
      },
      "source": [
        "plt.title(f'P:1')\n",
        "plt.xlabel('C')\n",
        "plt.ylabel('Accuracy')\n",
        "plt.plot(x_axis, all_accuracies[1])\n"
      ],
      "execution_count": 108,
      "outputs": [
        {
          "output_type": "execute_result",
          "data": {
            "text/plain": [
              "[<matplotlib.lines.Line2D at 0x7f74e7b5be10>]"
            ]
          },
          "metadata": {},
          "execution_count": 108
        },
        {
          "output_type": "display_data",
          "data": {
            "image/png": "[encoded data removed]",
            "text/plain": [
              "<Figure size 432x288 with 1 Axes>"
            ]
          },
          "metadata": {
            "needs_background": "light"
          }
        }
      ]
    },
    {
      "cell_type": "code",
      "metadata": {
        "colab": {
          "base_uri": "https://localhost:8080/",
          "height": 312
        },
        "id": "GjAAwO0puQzB",
        "outputId": "c46f1388-df74-4af8-88a0-95062e5a6a7c"
      },
      "source": [
        "plt.title(f'P:2')\n",
        "plt.xlabel('C')\n",
        "plt.ylabel('Accuracy')\n",
        "plt.plot(x_axis, all_accuracies[2])"
      ],
      "execution_count": 109,
      "outputs": [
        {
          "output_type": "execute_result",
          "data": {
            "text/plain": [
              "[<matplotlib.lines.Line2D at 0x7f74e7a8f890>]"
            ]
          },
          "metadata": {},
          "execution_count": 109
        },
        {
          "output_type": "display_data",
          "data": {
            "image/png": "[encoded data removed]",
            "text/plain": [
              "<Figure size 432x288 with 1 Axes>"
            ]
          },
          "metadata": {
            "needs_background": "light"
          }
        }
      ]
    },
    {
      "cell_type": "code",
      "metadata": {
        "colab": {
          "base_uri": "https://localhost:8080/",
          "height": 312
        },
        "id": "Ghequ68CuWTG",
        "outputId": "700e299d-bb2e-40f2-a3ae-ab5014402789"
      },
      "source": [
        "plt.title(f'P: 3')\n",
        "plt.xlabel('C')\n",
        "plt.ylabel('Accuracy')\n",
        "plt.plot(x_axis, all_accuracies[3])"
      ],
      "execution_count": 110,
      "outputs": [
        {
          "output_type": "execute_result",
          "data": {
            "text/plain": [
              "[<matplotlib.lines.Line2D at 0x7f74e7a04310>]"
            ]
          },
          "metadata": {},
          "execution_count": 110
        },
        {
          "output_type": "display_data",
          "data": {
            "image/png": "[encoded data removed]",
            "text/plain": [
              "<Figure size 432x288 with 1 Axes>"
            ]
          },
          "metadata": {
            "needs_background": "light"
          }
        }
      ]
    },
    {
      "cell_type": "code",
      "metadata": {
        "colab": {
          "base_uri": "https://localhost:8080/",
          "height": 312
        },
        "id": "uhu-iFPPufbq",
        "outputId": "02de780a-155e-43a7-b7a9-4afee82635d6"
      },
      "source": [
        "plt.title(f'P:4')\n",
        "plt.xlabel('C')\n",
        "plt.ylabel('Accuracy')\n",
        "plt.plot(x_axis, all_accuracies[4])"
      ],
      "execution_count": 111,
      "outputs": [
        {
          "output_type": "execute_result",
          "data": {
            "text/plain": [
              "[<matplotlib.lines.Line2D at 0x7f74e79edd50>]"
            ]
          },
          "metadata": {},
          "execution_count": 111
        },
        {
          "output_type": "display_data",
          "data": {
            "image/png": "[encoded data removed]",
            "text/plain": [
              "<Figure size 432x288 with 1 Axes>"
            ]
          },
          "metadata": {
            "needs_background": "light"
          }
        }
      ]
    },
    {
      "cell_type": "code",
      "metadata": {
        "colab": {
          "base_uri": "https://localhost:8080/",
          "height": 312
        },
        "id": "wRi81-qwuhzN",
        "outputId": "11b9a59d-00d5-4c82-a8bc-d891895618f7"
      },
      "source": [
        "plt.title(f'P:5')\n",
        "plt.xlabel('C')\n",
        "plt.ylabel('Accuracy')\n",
        "plt.plot(x_axis, all_accuracies[5])"
      ],
      "execution_count": 112,
      "outputs": [
        {
          "output_type": "execute_result",
          "data": {
            "text/plain": [
              "[<matplotlib.lines.Line2D at 0x7f74e795b950>]"
            ]
          },
          "metadata": {},
          "execution_count": 112
        },
        {
          "output_type": "display_data",
          "data": {
            "image/png": "[encoded data removed]",
            "text/plain": [
              "<Figure size 432x288 with 1 Axes>"
            ]
          },
          "metadata": {
            "needs_background": "light"
          }
        }
      ]
    }
  ]
}