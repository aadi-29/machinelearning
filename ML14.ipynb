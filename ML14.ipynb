{
  "nbformat": 4,
  "nbformat_minor": 0,
  "metadata": {
    "colab": {
      "name": "ML14.ipynb",
      "provenance": [],
      "include_colab_link": true
    },
    "kernelspec": {
      "name": "python3",
      "display_name": "Python 3"
    },
    "language_info": {
      "name": "python"
    }
  },
  "cells": [
    {
      "cell_type": "markdown",
      "metadata": {
        "id": "view-in-github",
        "colab_type": "text"
      },
      "source": [
        "<a href=\"https://colab.research.google.com/github/aadi-29/machinelearning/blob/main/ML14.ipynb\" target=\"_parent\"><img src=\"https://colab.research.google.com/assets/colab-badge.svg\" alt=\"Open In Colab\"/></a>"
      ]
    },
    {
      "cell_type": "code",
      "metadata": {
        "id": "IpRrsW4N0mNI",
        "colab": {
          "base_uri": "https://localhost:8080/",
          "height": 206
        },
        "outputId": "299ab58a-d52e-4d68-d759-61d55b1edc38"
      },
      "source": [
        "import pandas as pd\n",
        "import numpy as np\n",
        "import matplotlib.pyplot as plt \n",
        "from sklearn import metrics\n",
        "from sklearn.cluster import KMeans\n",
        "from sklearn.mixture import GaussianMixture\n",
        "df=pd. read_csv(\"Iris.csv\")\n",
        "df.head()"
      ],
      "execution_count": null,
      "outputs": [
        {
          "output_type": "execute_result",
          "data": {
            "text/html": [
              "<div>\n",
              "<style scoped>\n",
              "    .dataframe tbody tr th:only-of-type {\n",
              "        vertical-align: middle;\n",
              "    }\n",
              "\n",
              "    .dataframe tbody tr th {\n",
              "        vertical-align: top;\n",
              "    }\n",
              "\n",
              "    .dataframe thead th {\n",
              "        text-align: right;\n",
              "    }\n",
              "</style>\n",
              "<table border=\"1\" class=\"dataframe\">\n",
              "  <thead>\n",
              "    <tr style=\"text-align: right;\">\n",
              "      <th></th>\n",
              "      <th>Id</th>\n",
              "      <th>SepalLengthCm</th>\n",
              "      <th>SepalWidthCm</th>\n",
              "      <th>PetalLengthCm</th>\n",
              "      <th>PetalWidthCm</th>\n",
              "      <th>Species</th>\n",
              "    </tr>\n",
              "  </thead>\n",
              "  <tbody>\n",
              "    <tr>\n",
              "      <th>0</th>\n",
              "      <td>1</td>\n",
              "      <td>5.1</td>\n",
              "      <td>3.5</td>\n",
              "      <td>1.4</td>\n",
              "      <td>0.2</td>\n",
              "      <td>Iris-setosa</td>\n",
              "    </tr>\n",
              "    <tr>\n",
              "      <th>1</th>\n",
              "      <td>2</td>\n",
              "      <td>4.9</td>\n",
              "      <td>3.0</td>\n",
              "      <td>1.4</td>\n",
              "      <td>0.2</td>\n",
              "      <td>Iris-setosa</td>\n",
              "    </tr>\n",
              "    <tr>\n",
              "      <th>2</th>\n",
              "      <td>3</td>\n",
              "      <td>4.7</td>\n",
              "      <td>3.2</td>\n",
              "      <td>1.3</td>\n",
              "      <td>0.2</td>\n",
              "      <td>Iris-setosa</td>\n",
              "    </tr>\n",
              "    <tr>\n",
              "      <th>3</th>\n",
              "      <td>4</td>\n",
              "      <td>4.6</td>\n",
              "      <td>3.1</td>\n",
              "      <td>1.5</td>\n",
              "      <td>0.2</td>\n",
              "      <td>Iris-setosa</td>\n",
              "    </tr>\n",
              "    <tr>\n",
              "      <th>4</th>\n",
              "      <td>5</td>\n",
              "      <td>5.0</td>\n",
              "      <td>3.6</td>\n",
              "      <td>1.4</td>\n",
              "      <td>0.2</td>\n",
              "      <td>Iris-setosa</td>\n",
              "    </tr>\n",
              "  </tbody>\n",
              "</table>\n",
              "</div>"
            ],
            "text/plain": [
              "   Id  SepalLengthCm  SepalWidthCm  PetalLengthCm  PetalWidthCm      Species\n",
              "0   1            5.1           3.5            1.4           0.2  Iris-setosa\n",
              "1   2            4.9           3.0            1.4           0.2  Iris-setosa\n",
              "2   3            4.7           3.2            1.3           0.2  Iris-setosa\n",
              "3   4            4.6           3.1            1.5           0.2  Iris-setosa\n",
              "4   5            5.0           3.6            1.4           0.2  Iris-setosa"
            ]
          },
          "metadata": {},
          "execution_count": 1
        }
      ]
    },
    {
      "cell_type": "code",
      "metadata": {
        "id": "nyaGApffHW4i"
      },
      "source": [
        "d=df.drop(columns=['Species'])"
      ],
      "execution_count": null,
      "outputs": []
    },
    {
      "cell_type": "code",
      "metadata": {
        "id": "nHTNqrjKHo4g"
      },
      "source": [
        "from sklearn.preprocessing import StandardScaler\n",
        "d=StandardScaler().fit_transform(d)"
      ],
      "execution_count": null,
      "outputs": []
    },
    {
      "cell_type": "code",
      "metadata": {
        "colab": {
          "base_uri": "https://localhost:8080/",
          "height": 424
        },
        "id": "kmtQ-ObFHt5i",
        "outputId": "e2316103-be65-48a6-bc57-e31189ec08cd"
      },
      "source": [
        "from sklearn.decomposition import PCA\n",
        "pca = PCA(n_components=2)\n",
        "principalComponents = pca.fit_transform(d)\n",
        "principalDf = pd.DataFrame(data = principalComponents\n",
        "             , columns = ['pc1', 'pc2'])\n",
        "principalDf"
      ],
      "execution_count": null,
      "outputs": [
        {
          "output_type": "execute_result",
          "data": {
            "text/html": [
              "<div>\n",
              "<style scoped>\n",
              "    .dataframe tbody tr th:only-of-type {\n",
              "        vertical-align: middle;\n",
              "    }\n",
              "\n",
              "    .dataframe tbody tr th {\n",
              "        vertical-align: top;\n",
              "    }\n",
              "\n",
              "    .dataframe thead th {\n",
              "        text-align: right;\n",
              "    }\n",
              "</style>\n",
              "<table border=\"1\" class=\"dataframe\">\n",
              "  <thead>\n",
              "    <tr style=\"text-align: right;\">\n",
              "      <th></th>\n",
              "      <th>pc1</th>\n",
              "      <th>pc2</th>\n",
              "    </tr>\n",
              "  </thead>\n",
              "  <tbody>\n",
              "    <tr>\n",
              "      <th>0</th>\n",
              "      <td>-2.816339</td>\n",
              "      <td>0.506051</td>\n",
              "    </tr>\n",
              "    <tr>\n",
              "      <th>1</th>\n",
              "      <td>-2.645527</td>\n",
              "      <td>-0.651799</td>\n",
              "    </tr>\n",
              "    <tr>\n",
              "      <th>2</th>\n",
              "      <td>-2.879481</td>\n",
              "      <td>-0.321036</td>\n",
              "    </tr>\n",
              "    <tr>\n",
              "      <th>3</th>\n",
              "      <td>-2.810934</td>\n",
              "      <td>-0.577363</td>\n",
              "    </tr>\n",
              "    <tr>\n",
              "      <th>4</th>\n",
              "      <td>-2.879884</td>\n",
              "      <td>0.670468</td>\n",
              "    </tr>\n",
              "    <tr>\n",
              "      <th>...</th>\n",
              "      <td>...</td>\n",
              "      <td>...</td>\n",
              "    </tr>\n",
              "    <tr>\n",
              "      <th>145</th>\n",
              "      <td>2.424421</td>\n",
              "      <td>0.377119</td>\n",
              "    </tr>\n",
              "    <tr>\n",
              "      <th>146</th>\n",
              "      <td>2.164220</td>\n",
              "      <td>-0.915696</td>\n",
              "    </tr>\n",
              "    <tr>\n",
              "      <th>147</th>\n",
              "      <td>2.139796</td>\n",
              "      <td>0.254272</td>\n",
              "    </tr>\n",
              "    <tr>\n",
              "      <th>148</th>\n",
              "      <td>2.029480</td>\n",
              "      <td>0.998725</td>\n",
              "    </tr>\n",
              "    <tr>\n",
              "      <th>149</th>\n",
              "      <td>1.674835</td>\n",
              "      <td>-0.046213</td>\n",
              "    </tr>\n",
              "  </tbody>\n",
              "</table>\n",
              "<p>150 rows × 2 columns</p>\n",
              "</div>"
            ],
            "text/plain": [
              "          pc1       pc2\n",
              "0   -2.816339  0.506051\n",
              "1   -2.645527 -0.651799\n",
              "2   -2.879481 -0.321036\n",
              "3   -2.810934 -0.577363\n",
              "4   -2.879884  0.670468\n",
              "..        ...       ...\n",
              "145  2.424421  0.377119\n",
              "146  2.164220 -0.915696\n",
              "147  2.139796  0.254272\n",
              "148  2.029480  0.998725\n",
              "149  1.674835 -0.046213\n",
              "\n",
              "[150 rows x 2 columns]"
            ]
          },
          "metadata": {},
          "execution_count": 4
        }
      ]
    },
    {
      "cell_type": "code",
      "metadata": {
        "colab": {
          "base_uri": "https://localhost:8080/",
          "height": 295
        },
        "id": "zOIoU23LLIhT",
        "outputId": "1a6b5109-8082-4378-b573-3809deb02cfd"
      },
      "source": [
        "inertia_avg = []\n",
        "K = range(2,11)\n",
        "for i in K :\n",
        "    inertia=[]\n",
        "    for j in range(10):\n",
        "        kmeans = KMeans(n_clusters=i)\n",
        "        kmeans.fit(principalDf)\n",
        "        inertia.append(kmeans.inertia_)\n",
        "    avg_inertia=sum(inertia)/len(inertia)\n",
        "    inertia_avg.append(avg_inertia)\n",
        "plt.plot(K,inertia_avg)\n",
        "plt.xlabel('Values of K') \n",
        "plt.ylabel('Inertia') \n",
        "plt.title('Elbow Method For Optimal k')\n",
        "plt.show()"
      ],
      "execution_count": null,
      "outputs": [
        {
          "output_type": "display_data",
          "data": {
            "image/png": "[encoded data removed]",
            "text/plain": [
              "<Figure size 432x288 with 1 Axes>"
            ]
          },
          "metadata": {
            "needs_background": "light"
          }
        }
      ]
    },
    {
      "cell_type": "code",
      "metadata": {
        "colab": {
          "base_uri": "https://localhost:8080/",
          "height": 265
        },
        "id": "0URhogqFLftK",
        "outputId": "2a196b1c-e481-4bd3-9601-65a862576397"
      },
      "source": [
        "kmeans=KMeans(n_clusters=3)\n",
        "label=kmeans.fit_predict(principalComponents)\n",
        "#print(label)\n",
        "\n",
        "filtered_l0=principalComponents[label==0]\n",
        "filtered_l1=principalComponents[label==1]\n",
        "filtered_l2=principalComponents[label==2]\n",
        "\n",
        "plt.scatter(filtered_l0[:,0],filtered_l0[:,1],color=\"red\")\n",
        "plt.scatter(filtered_l1[:,0],filtered_l1[:,1],color=\"green\")\n",
        "plt.scatter(filtered_l2[:,0],filtered_l2[:,1],color=\"blue\")\n",
        "plt.show()"
      ],
      "execution_count": null,
      "outputs": [
        {
          "output_type": "display_data",
          "data": {
            "image/png": "[encoded data removed]",
            "text/plain": [
              "<Figure size 432x288 with 1 Axes>"
            ]
          },
          "metadata": {
            "needs_background": "light"
          }
        }
      ]
    },
    {
      "cell_type": "code",
      "metadata": {
        "id": "JdyPsRKRHw8F"
      },
      "source": [
        "K = range(2,5)\n",
        "for i in K :\n",
        "    gmm = GaussianMixture(n_components=i)\n",
        "    gmm.fit(principalDf)\n"
      ],
      "execution_count": null,
      "outputs": []
    },
    {
      "cell_type": "code",
      "metadata": {
        "colab": {
          "base_uri": "https://localhost:8080/"
        },
        "id": "lEiw-bkqHweS",
        "outputId": "1b9af64a-e93d-432d-d077-97b76bc954f6"
      },
      "source": [
        "n_components = np.arange(2, 5)\n",
        "models = [GaussianMixture(n,covariance_type='full', random_state=0).fit(principalDf) for n in n_components]\n",
        "models[0:3]\n",
        " "
      ],
      "execution_count": null,
      "outputs": [
        {
          "output_type": "execute_result",
          "data": {
            "text/plain": [
              "[GaussianMixture(n_components=2, random_state=0),\n",
              " GaussianMixture(n_components=3, random_state=0),\n",
              " GaussianMixture(n_components=4, random_state=0)]"
            ]
          },
          "metadata": {},
          "execution_count": 20
        }
      ]
    },
    {
      "cell_type": "code",
      "metadata": {
        "colab": {
          "base_uri": "https://localhost:8080/",
          "height": 297
        },
        "id": "9QGzy25bRkHz",
        "outputId": "4195a52c-9354-41d8-cbe7-16cb0073eef1"
      },
      "source": [
        "BIC = np.zeros(n_components.shape)\n",
        "AIC = np.zeros(n_components.shape)\n",
        "\n",
        "for i, n in enumerate(n_components):\n",
        "    clf = GaussianMixture(n_components=n,\n",
        "              covariance_type='diag')\n",
        "    clf.fit(principalDf)\n",
        "\n",
        "    AIC[i] = clf.aic(principalDf)\n",
        "    BIC[i] = clf.bic(principalDf)\n",
        "\n",
        "plt.figure()\n",
        "plt.plot(n_components, AIC, label='AIC')\n",
        "plt.plot(n_components, BIC, label='BIC')\n",
        "plt.legend(loc=0)\n",
        "plt.xlabel('n_components')\n",
        "plt.ylabel('AIC / BIC')\n"
      ],
      "execution_count": null,
      "outputs": [
        {
          "output_type": "execute_result",
          "data": {
            "text/plain": [
              "Text(0, 0.5, 'AIC / BIC')"
            ]
          },
          "metadata": {},
          "execution_count": 29
        },
        {
          "output_type": "display_data",
          "data": {
            "image/png": "[encoded data removed]",
            "text/plain": [
              "<Figure size 432x288 with 1 Axes>"
            ]
          },
          "metadata": {
            "needs_background": "light"
          }
        }
      ]
    },
    {
      "cell_type": "code",
      "metadata": {
        "colab": {
          "base_uri": "https://localhost:8080/",
          "height": 265
        },
        "id": "Q62iVYeQXf_U",
        "outputId": "da836cf9-306b-41b5-bec0-31706f678181"
      },
      "source": [
        "gmm=GaussianMixture(n_components=3)\n",
        "label=gmm.fit_predict(principalDf)\n",
        "#print(label)\n",
        "\n",
        "filtered_l0=principalComponents[label==0]\n",
        "filtered_l1=principalComponents[label==1]\n",
        "filtered_l2=principalComponents[label==2]\n",
        "\n",
        "plt.scatter(filtered_l0[:,0],filtered_l0[:,1],color=\"red\")\n",
        "plt.scatter(filtered_l1[:,0],filtered_l1[:,1],color=\"green\")\n",
        "plt.scatter(filtered_l2[:,0],filtered_l2[:,1],color=\"blue\")\n",
        "plt.show()"
      ],
      "execution_count": null,
      "outputs": [
        {
          "output_type": "display_data",
          "data": {
            "image/png": "[encoded data removed]",
            "text/plain": [
              "<Figure size 432x288 with 1 Axes>"
            ]
          },
          "metadata": {
            "needs_background": "light"
          }
        }
      ]
    },
    {
      "cell_type": "code",
      "metadata": {
        "colab": {
          "base_uri": "https://localhost:8080/"
        },
        "id": "LXWAa20mTWOn",
        "outputId": "0bca48fd-bcca-4d0f-bdd7-4e842a5beb7f"
      },
      "source": [
        "probs = gmm.predict_proba(principalDf)\n",
        "props = probs[:20].round(3)\n",
        "props"
      ],
      "execution_count": null,
      "outputs": [
        {
          "output_type": "execute_result",
          "data": {
            "text/plain": [
              "array([[0., 1., 0.],\n",
              "       [0., 1., 0.],\n",
              "       [0., 1., 0.],\n",
              "       [0., 1., 0.],\n",
              "       [0., 1., 0.],\n",
              "       [0., 1., 0.],\n",
              "       [0., 1., 0.],\n",
              "       [0., 1., 0.],\n",
              "       [0., 1., 0.],\n",
              "       [0., 1., 0.],\n",
              "       [0., 1., 0.],\n",
              "       [0., 1., 0.],\n",
              "       [0., 1., 0.],\n",
              "       [0., 1., 0.],\n",
              "       [0., 1., 0.],\n",
              "       [0., 1., 0.],\n",
              "       [0., 1., 0.],\n",
              "       [0., 1., 0.],\n",
              "       [0., 1., 0.],\n",
              "       [0., 1., 0.]])"
            ]
          },
          "metadata": {},
          "execution_count": 43
        }
      ]
    },
    {
      "cell_type": "code",
      "metadata": {
        "id": "ZbjgW2DxXRzy"
      },
      "source": [
        ""
      ],
      "execution_count": null,
      "outputs": []
    }
  ]
}