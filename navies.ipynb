{
  "nbformat": 4,
  "nbformat_minor": 5,
  "metadata": {
    "kernelspec": {
      "display_name": "Python 3",
      "language": "python",
      "name": "python3"
    },
    "language_info": {
      "codemirror_mode": {
        "name": "ipython",
        "version": 3
      },
      "file_extension": ".py",
      "mimetype": "text/x-python",
      "name": "python",
      "nbconvert_exporter": "python",
      "pygments_lexer": "ipython3",
      "version": "3.6.8"
    },
    "colab": {
      "name": "lab4.ipynb",
      "provenance": [],
      "include_colab_link": true
    }
  },
  "cells": [
    {
      "cell_type": "markdown",
      "metadata": {
        "id": "view-in-github",
        "colab_type": "text"
      },
      "source": [
        "<a href=\"https://colab.research.google.com/github/aadi-29/machinelearning/blob/main/navies.ipynb\" target=\"_parent\"><img src=\"https://colab.research.google.com/assets/colab-badge.svg\" alt=\"Open In Colab\"/></a>"
      ]
    },
    {
      "cell_type": "code",
      "metadata": {
        "id": "right-chain",
        "outputId": "6747b813-1787-43c7-fd00-5c64c41454ba"
      },
      "source": [
        "import matplotlib.pyplot as plt\n",
        "import numpy as np\n",
        "import pandas as pd\n",
        "\n",
        "feature_cols=['1','2','3','4','5','6','7','8','9']\n",
        "df= pd.read_csv('breast-cancer-wisconsin.csv')\n",
        "\n",
        " \n",
        "X = df[feature_cols] # Features\n",
        "y = df[\"10\"] # Target\n",
        "df.head()\n",
        "#len(df)"
      ],
      "id": "right-chain",
      "execution_count": null,
      "outputs": [
        {
          "data": {
            "text/html": [
              "<div>\n",
              "<style scoped>\n",
              "    .dataframe tbody tr th:only-of-type {\n",
              "        vertical-align: middle;\n",
              "    }\n",
              "\n",
              "    .dataframe tbody tr th {\n",
              "        vertical-align: top;\n",
              "    }\n",
              "\n",
              "    .dataframe thead th {\n",
              "        text-align: right;\n",
              "    }\n",
              "</style>\n",
              "<table border=\"1\" class=\"dataframe\">\n",
              "  <thead>\n",
              "    <tr style=\"text-align: right;\">\n",
              "      <th></th>\n",
              "      <th>0</th>\n",
              "      <th>1</th>\n",
              "      <th>2</th>\n",
              "      <th>3</th>\n",
              "      <th>4</th>\n",
              "      <th>5</th>\n",
              "      <th>6</th>\n",
              "      <th>7</th>\n",
              "      <th>8</th>\n",
              "      <th>9</th>\n",
              "      <th>10</th>\n",
              "    </tr>\n",
              "  </thead>\n",
              "  <tbody>\n",
              "    <tr>\n",
              "      <th>0</th>\n",
              "      <td>1002945</td>\n",
              "      <td>5</td>\n",
              "      <td>4</td>\n",
              "      <td>4</td>\n",
              "      <td>5</td>\n",
              "      <td>7</td>\n",
              "      <td>10</td>\n",
              "      <td>3</td>\n",
              "      <td>2</td>\n",
              "      <td>1</td>\n",
              "      <td>2</td>\n",
              "    </tr>\n",
              "    <tr>\n",
              "      <th>1</th>\n",
              "      <td>1015425</td>\n",
              "      <td>3</td>\n",
              "      <td>1</td>\n",
              "      <td>1</td>\n",
              "      <td>1</td>\n",
              "      <td>2</td>\n",
              "      <td>2</td>\n",
              "      <td>3</td>\n",
              "      <td>1</td>\n",
              "      <td>1</td>\n",
              "      <td>2</td>\n",
              "    </tr>\n",
              "    <tr>\n",
              "      <th>2</th>\n",
              "      <td>1016277</td>\n",
              "      <td>6</td>\n",
              "      <td>8</td>\n",
              "      <td>8</td>\n",
              "      <td>1</td>\n",
              "      <td>3</td>\n",
              "      <td>4</td>\n",
              "      <td>3</td>\n",
              "      <td>7</td>\n",
              "      <td>1</td>\n",
              "      <td>2</td>\n",
              "    </tr>\n",
              "    <tr>\n",
              "      <th>3</th>\n",
              "      <td>1017023</td>\n",
              "      <td>4</td>\n",
              "      <td>1</td>\n",
              "      <td>1</td>\n",
              "      <td>3</td>\n",
              "      <td>2</td>\n",
              "      <td>1</td>\n",
              "      <td>3</td>\n",
              "      <td>1</td>\n",
              "      <td>1</td>\n",
              "      <td>2</td>\n",
              "    </tr>\n",
              "    <tr>\n",
              "      <th>4</th>\n",
              "      <td>1017122</td>\n",
              "      <td>8</td>\n",
              "      <td>10</td>\n",
              "      <td>10</td>\n",
              "      <td>8</td>\n",
              "      <td>7</td>\n",
              "      <td>10</td>\n",
              "      <td>9</td>\n",
              "      <td>7</td>\n",
              "      <td>1</td>\n",
              "      <td>4</td>\n",
              "    </tr>\n",
              "  </tbody>\n",
              "</table>\n",
              "</div>"
            ],
            "text/plain": [
              "         0  1   2   3  4  5   6  7  8  9  10\n",
              "0  1002945  5   4   4  5  7  10  3  2  1   2\n",
              "1  1015425  3   1   1  1  2   2  3  1  1   2\n",
              "2  1016277  6   8   8  1  3   4  3  7  1   2\n",
              "3  1017023  4   1   1  3  2   1  3  1  1   2\n",
              "4  1017122  8  10  10  8  7  10  9  7  1   4"
            ]
          },
          "execution_count": 12,
          "metadata": {},
          "output_type": "execute_result"
        }
      ]
    },
    {
      "cell_type": "code",
      "metadata": {
        "id": "rough-aerospace",
        "outputId": "5c93ed66-8c94-40b9-ae33-8e7570cc1da4"
      },
      "source": [
        "#Import Gaussian Naive Bayes model\n",
        "from sklearn.naive_bayes import GaussianNB\n",
        "from sklearn.model_selection import train_test_split\n",
        "from sklearn import metrics\n",
        "\n",
        "train_feat=[]\n",
        "while(len(feature_cols)>0):\n",
        "    max_feat = ''\n",
        "    max_acc=0\n",
        "    #print(feature_cols)\n",
        "    for i in df[feature_cols]:\n",
        "        #Create a Gaussian Classifier\n",
        "        gnb = GaussianNB()\n",
        "        train_feat.append(i)\n",
        "        df_each = df[train_feat]\n",
        "        if(len(train_feat)==1):\n",
        "            X_train, X_test, y_train, y_test = train_test_split(df_each.values.reshape(-1,1), y, test_size=0.3, random_state=21)\n",
        "        else:\n",
        "            X_train, X_test, y_train, y_test = train_test_split(df_each, y, test_size=0.3, random_state=21)\n",
        "            \n",
        "        gnb.fit(X_train, y_train)\n",
        "\n",
        "        #Predict the response for test dataset\n",
        "        y_pred = gnb.predict(X_test)\n",
        "        curr_acc = metrics.accuracy_score(y_test, y_pred)\n",
        "        #print(\"Accuracy: \",i,curr_acc)\n",
        "        if(curr_acc>max_acc):\n",
        "            max_acc=curr_acc\n",
        "            max_feat = i\n",
        "        train_feat.remove(i)\n",
        "    print(\"Accuracy: \",train_feat,max_acc)    \n",
        "    \n",
        "    feature_cols.remove(max_feat)\n",
        "    train_feat.append(max_feat)"
      ],
      "id": "rough-aerospace",
      "execution_count": null,
      "outputs": [
        {
          "name": "stdout",
          "output_type": "stream",
          "text": [
            "Accuracy:  [] 0.9219512195121952\n",
            "Accuracy:  ['2'] 0.9463414634146341\n",
            "Accuracy:  ['2', '5'] 0.9609756097560975\n",
            "Accuracy:  ['2', '5', '1'] 0.9658536585365853\n",
            "Accuracy:  ['2', '5', '1', '3'] 0.975609756097561\n",
            "Accuracy:  ['2', '5', '1', '3', '6'] 0.9804878048780488\n",
            "Accuracy:  ['2', '5', '1', '3', '6', '7'] 0.975609756097561\n",
            "Accuracy:  ['2', '5', '1', '3', '6', '7', '8'] 0.975609756097561\n",
            "Accuracy:  ['2', '5', '1', '3', '6', '7', '8', '9'] 0.9658536585365853\n"
          ]
        }
      ]
    },
    {
      "cell_type": "code",
      "metadata": {
        "id": "running-lithuania"
      },
      "source": [
        ""
      ],
      "id": "running-lithuania",
      "execution_count": null,
      "outputs": []
    },
    {
      "cell_type": "code",
      "metadata": {
        "id": "bearing-whole"
      },
      "source": [
        ""
      ],
      "id": "bearing-whole",
      "execution_count": null,
      "outputs": []
    }
  ]
}