{
  "nbformat": 4,
  "nbformat_minor": 0,
  "metadata": {
    "colab": {
      "name": "ML_7.ipynb",
      "provenance": [],
      "include_colab_link": true
    },
    "kernelspec": {
      "name": "python3",
      "display_name": "Python 3"
    },
    "language_info": {
      "name": "python"
    }
  },
  "cells": [
    {
      "cell_type": "markdown",
      "metadata": {
        "id": "view-in-github",
        "colab_type": "text"
      },
      "source": [
        "<a href=\"https://colab.research.google.com/github/aadi-29/machinelearning/blob/main/ML_7.ipynb\" target=\"_parent\"><img src=\"https://colab.research.google.com/assets/colab-badge.svg\" alt=\"Open In Colab\"/></a>"
      ]
    },
    {
      "cell_type": "code",
      "metadata": {
        "id": "sPH3U1WtykId"
      },
      "source": [
        "import numpy as np\n",
        "import pandas as pd\n",
        "from sklearn.model_selection import train_test_split\n",
        "from matplotlib import pyplot as plt\n",
        "\n",
        "#model specific library\n",
        "\n",
        "from sklearn.naive_bayes import GaussianNB\n",
        "from sklearn.naive_bayes import MultinomialNB\n",
        "from sklearn.naive_bayes import BernoulliNB\n",
        "import sklearn.metrics as metrics\n",
        "from sklearn.decomposition import PCA\n",
        "from sklearn.preprocessing import StandardScaler"
      ],
      "execution_count": null,
      "outputs": []
    },
    {
      "cell_type": "code",
      "metadata": {
        "colab": {
          "base_uri": "https://localhost:8080/"
        },
        "id": "cJsJVplF11Qp",
        "outputId": "3ae477b8-6e8d-4fd9-fd98-243012dbbda1"
      },
      "source": [
        "df = pd.read_csv('breast-cancer-wisconsin.csv')\n",
        "df=df[df.ne('?').all(1)].astype(int)\n",
        "df.columns=['id', 'Clump Thickness', 'Cell size', 'cell shape', 'Adhesion', 'Epithelial Cell', 'Bare nuclei', 'Bland Chromatin', 'Normal nucleoli', 'Mitoses', 'Class']\n",
        "df.shape\n",
        "data=np.array(df)\n",
        "X=data[:,:-1]\n",
        "y=data[:,-1]\n",
        "X"
      ],
      "execution_count": null,
      "outputs": [
        {
          "output_type": "execute_result",
          "data": {
            "text/plain": [
              "array([[1002945,       5,       4, ...,       3,       2,       1],\n",
              "       [1015425,       3,       1, ...,       3,       1,       1],\n",
              "       [1016277,       6,       8, ...,       3,       7,       1],\n",
              "       ...,\n",
              "       [ 888820,       5,      10, ...,       8,      10,       2],\n",
              "       [ 897471,       4,       8, ...,      10,       6,       1],\n",
              "       [ 897471,       4,       8, ...,      10,       4,       1]])"
            ]
          },
          "metadata": {},
          "execution_count": 3
        }
      ]
    },
    {
      "cell_type": "code",
      "metadata": {
        "id": "eaXPOnqJ3cyv"
      },
      "source": [
        "X_train,X_test,y_train,y_test=train_test_split(X,y,test_size=0.3,random_state=50)"
      ],
      "execution_count": null,
      "outputs": []
    },
    {
      "cell_type": "code",
      "metadata": {
        "id": "nfz-dZFy3s_u"
      },
      "source": [
        "sc = StandardScaler()\n",
        "\n",
        "X_train = sc.fit_transform(X_train)\n",
        "X_test = sc.transform(X_test)\n"
      ],
      "execution_count": null,
      "outputs": []
    },
    {
      "cell_type": "code",
      "metadata": {
        "colab": {
          "base_uri": "https://localhost:8080/"
        },
        "id": "0LL-ZAE134eF",
        "outputId": "b617310d-ac3d-444e-e97a-973e4f9afcd6"
      },
      "source": [
        "principal = PCA(0.80)\n",
        "principal.fit(X_train)\n",
        "x=principal.transform(X_train)\n",
        "x_test=principal.transform(X_test)\n",
        "\n",
        "#check the dimesnions of data after PCA\n",
        "print(x.shape)"
      ],
      "execution_count": null,
      "outputs": [
        {
          "output_type": "stream",
          "name": "stdout",
          "text": [
            "(477, 4)\n"
          ]
        }
      ]
    },
    {
      "cell_type": "code",
      "metadata": {
        "colab": {
          "base_uri": "https://localhost:8080/"
        },
        "id": "gU9hAoYQ4g6F",
        "outputId": "4e933d7b-12a5-4c58-b746-3f63e00245ce"
      },
      "source": [
        "x"
      ],
      "execution_count": null,
      "outputs": [
        {
          "output_type": "execute_result",
          "data": {
            "text/plain": [
              "array([[-1.81849459,  1.37067076,  0.03364056, -0.72127372],\n",
              "       [ 3.14043677, -0.9132151 , -0.59409747,  0.39780788],\n",
              "       [-1.86739063,  1.47545023,  0.1517633 , -0.68041794],\n",
              "       ...,\n",
              "       [ 6.78951987,  1.3775058 ,  3.32196394,  0.52923855],\n",
              "       [ 2.5410485 , -0.03535219, -0.75155249,  0.97317622],\n",
              "       [-2.32130837, -0.30918639,  0.23336756, -0.38347399]])"
            ]
          },
          "metadata": {},
          "execution_count": 8
        }
      ]
    },
    {
      "cell_type": "code",
      "metadata": {
        "colab": {
          "base_uri": "https://localhost:8080/"
        },
        "id": "kF02O9oU4lKD",
        "outputId": "30159e8a-ea7d-4343-d029-444d61dac3e0"
      },
      "source": [
        "principal.explained_variance_ratio_"
      ],
      "execution_count": null,
      "outputs": [
        {
          "output_type": "execute_result",
          "data": {
            "text/plain": [
              "array([0.59256489, 0.1019823 , 0.07505003, 0.0533842 ])"
            ]
          },
          "metadata": {},
          "execution_count": 9
        }
      ]
    },
    {
      "cell_type": "code",
      "metadata": {
        "colab": {
          "base_uri": "https://localhost:8080/"
        },
        "id": "ZWh6v6Yb4sqT",
        "outputId": "00a37cdf-3bcd-4420-8d78-774a1f206552"
      },
      "source": [
        "print(principal.components_)\n",
        "print(principal.explained_variance_)"
      ],
      "execution_count": null,
      "outputs": [
        {
          "output_type": "stream",
          "name": "stdout",
          "text": [
            "[[-0.03875387  0.30636177  0.37951582  0.37560508  0.33553815  0.33478076\n",
            "   0.33873087  0.3415202   0.32481583  0.24080115]\n",
            " [-0.97661133 -0.01931873 -0.10646427 -0.06897308  0.05593432 -0.05091817\n",
            "   0.11115617 -0.03248177 -0.04862596  0.09093197]\n",
            " [ 0.05102178 -0.13737421 -0.03603214 -0.0790584  -0.10757935  0.19171645\n",
            "  -0.28129432 -0.23437055  0.06596083  0.88557392]\n",
            " [ 0.03271187  0.83237115 -0.05476022  0.02140997 -0.27093733 -0.10908543\n",
            "   0.16245942 -0.27748498 -0.31575213  0.11930671]]\n",
            "[5.93809778 1.02196553 0.75207697 0.53496354]\n"
          ]
        }
      ]
    },
    {
      "cell_type": "code",
      "metadata": {
        "id": "svc-6kEL40Bc"
      },
      "source": [
        "gnb = GaussianNB()\n",
        "y_pred=gnb.fit(x,y_train).predict(x_test)"
      ],
      "execution_count": null,
      "outputs": []
    },
    {
      "cell_type": "code",
      "metadata": {
        "colab": {
          "base_uri": "https://localhost:8080/"
        },
        "id": "mgLrN-Ne491V",
        "outputId": "66fae945-7752-412c-a07f-799b23afe6f2"
      },
      "source": [
        "metrics.accuracy_score(y_test,y_pred)*100"
      ],
      "execution_count": null,
      "outputs": [
        {
          "output_type": "execute_result",
          "data": {
            "text/plain": [
              "93.65853658536587"
            ]
          },
          "metadata": {},
          "execution_count": 13
        }
      ]
    },
    {
      "cell_type": "code",
      "metadata": {
        "id": "Ospg4IkV5C_Z"
      },
      "source": [
        ""
      ],
      "execution_count": null,
      "outputs": []
    }
  ]
}