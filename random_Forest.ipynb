{
  "nbformat": 4,
  "nbformat_minor": 0,
  "metadata": {
    "colab": {
      "name": "random_Forest.ipynb",
      "provenance": [],
      "include_colab_link": true
    },
    "kernelspec": {
      "name": "python3",
      "display_name": "Python 3"
    },
    "language_info": {
      "name": "python"
    }
  },
  "cells": [
    {
      "cell_type": "markdown",
      "metadata": {
        "id": "view-in-github",
        "colab_type": "text"
      },
      "source": [
        "<a href=\"https://colab.research.google.com/github/aadi-29/machinelearning/blob/main/random_Forest.ipynb\" target=\"_parent\"><img src=\"https://colab.research.google.com/assets/colab-badge.svg\" alt=\"Open In Colab\"/></a>"
      ]
    },
    {
      "cell_type": "code",
      "metadata": {
        "colab": {
          "base_uri": "https://localhost:8080/",
          "height": 423
        },
        "id": "rgqBx_6OQoEM",
        "outputId": "d6bea99e-56d7-476c-9d27-5d168dbccc14"
      },
      "source": [
        "import pandas as pd\n",
        "import numpy as np\n",
        "data=pd.read_csv(\"data_banknote_authentication.csv\", dtype=str)\n",
        "data"
      ],
      "execution_count": null,
      "outputs": [
        {
          "output_type": "execute_result",
          "data": {
            "text/html": [
              "<div>\n",
              "<style scoped>\n",
              "    .dataframe tbody tr th:only-of-type {\n",
              "        vertical-align: middle;\n",
              "    }\n",
              "\n",
              "    .dataframe tbody tr th {\n",
              "        vertical-align: top;\n",
              "    }\n",
              "\n",
              "    .dataframe thead th {\n",
              "        text-align: right;\n",
              "    }\n",
              "</style>\n",
              "<table border=\"1\" class=\"dataframe\">\n",
              "  <thead>\n",
              "    <tr style=\"text-align: right;\">\n",
              "      <th></th>\n",
              "      <th>3.6216</th>\n",
              "      <th>8.6661</th>\n",
              "      <th>-2.8073</th>\n",
              "      <th>-0.44699</th>\n",
              "      <th>0</th>\n",
              "    </tr>\n",
              "  </thead>\n",
              "  <tbody>\n",
              "    <tr>\n",
              "      <th>0</th>\n",
              "      <td>4.5459</td>\n",
              "      <td>8.1674</td>\n",
              "      <td>-2.4586</td>\n",
              "      <td>-1.4621</td>\n",
              "      <td>0</td>\n",
              "    </tr>\n",
              "    <tr>\n",
              "      <th>1</th>\n",
              "      <td>3.866</td>\n",
              "      <td>-2.6383</td>\n",
              "      <td>1.9242</td>\n",
              "      <td>0.10645</td>\n",
              "      <td>0</td>\n",
              "    </tr>\n",
              "    <tr>\n",
              "      <th>2</th>\n",
              "      <td>3.4566</td>\n",
              "      <td>9.5228</td>\n",
              "      <td>-4.0112</td>\n",
              "      <td>-3.5944</td>\n",
              "      <td>0</td>\n",
              "    </tr>\n",
              "    <tr>\n",
              "      <th>3</th>\n",
              "      <td>0.32924</td>\n",
              "      <td>-4.4552</td>\n",
              "      <td>4.5718</td>\n",
              "      <td>-0.9888</td>\n",
              "      <td>0</td>\n",
              "    </tr>\n",
              "    <tr>\n",
              "      <th>4</th>\n",
              "      <td>4.3684</td>\n",
              "      <td>9.6718</td>\n",
              "      <td>-3.9606</td>\n",
              "      <td>-3.1625</td>\n",
              "      <td>0</td>\n",
              "    </tr>\n",
              "    <tr>\n",
              "      <th>...</th>\n",
              "      <td>...</td>\n",
              "      <td>...</td>\n",
              "      <td>...</td>\n",
              "      <td>...</td>\n",
              "      <td>...</td>\n",
              "    </tr>\n",
              "    <tr>\n",
              "      <th>1366</th>\n",
              "      <td>0.40614</td>\n",
              "      <td>1.3492</td>\n",
              "      <td>-1.4501</td>\n",
              "      <td>-0.55949</td>\n",
              "      <td>1</td>\n",
              "    </tr>\n",
              "    <tr>\n",
              "      <th>1367</th>\n",
              "      <td>-1.3887</td>\n",
              "      <td>-4.8773</td>\n",
              "      <td>6.4774</td>\n",
              "      <td>0.34179</td>\n",
              "      <td>1</td>\n",
              "    </tr>\n",
              "    <tr>\n",
              "      <th>1368</th>\n",
              "      <td>-3.7503</td>\n",
              "      <td>-13.4586</td>\n",
              "      <td>17.5932</td>\n",
              "      <td>-2.7771</td>\n",
              "      <td>1</td>\n",
              "    </tr>\n",
              "    <tr>\n",
              "      <th>1369</th>\n",
              "      <td>-3.5637</td>\n",
              "      <td>-8.3827</td>\n",
              "      <td>12.393</td>\n",
              "      <td>-1.2823</td>\n",
              "      <td>1</td>\n",
              "    </tr>\n",
              "    <tr>\n",
              "      <th>1370</th>\n",
              "      <td>-2.5419</td>\n",
              "      <td>-0.65804</td>\n",
              "      <td>2.6842</td>\n",
              "      <td>1.1952</td>\n",
              "      <td>1</td>\n",
              "    </tr>\n",
              "  </tbody>\n",
              "</table>\n",
              "<p>1371 rows × 5 columns</p>\n",
              "</div>"
            ],
            "text/plain": [
              "       3.6216    8.6661  -2.8073  -0.44699  0\n",
              "0      4.5459    8.1674  -2.4586   -1.4621  0\n",
              "1       3.866   -2.6383   1.9242   0.10645  0\n",
              "2      3.4566    9.5228  -4.0112   -3.5944  0\n",
              "3     0.32924   -4.4552   4.5718   -0.9888  0\n",
              "4      4.3684    9.6718  -3.9606   -3.1625  0\n",
              "...       ...       ...      ...       ... ..\n",
              "1366  0.40614    1.3492  -1.4501  -0.55949  1\n",
              "1367  -1.3887   -4.8773   6.4774   0.34179  1\n",
              "1368  -3.7503  -13.4586  17.5932   -2.7771  1\n",
              "1369  -3.5637   -8.3827   12.393   -1.2823  1\n",
              "1370  -2.5419  -0.65804   2.6842    1.1952  1\n",
              "\n",
              "[1371 rows x 5 columns]"
            ]
          },
          "metadata": {},
          "execution_count": 2
        }
      ]
    },
    {
      "cell_type": "code",
      "metadata": {
        "id": "cT8wvkO3QoGu"
      },
      "source": [
        "from sklearn.ensemble import RandomForestClassifier\n",
        "from sklearn.model_selection import train_test_split\n",
        "from sklearn.metrics import accuracy_score, mean_squared_error\n",
        "from matplotlib import pyplot"
      ],
      "execution_count": null,
      "outputs": []
    },
    {
      "cell_type": "code",
      "metadata": {
        "id": "Rt8pdlorS_BG"
      },
      "source": [
        "acc_dist = {}\n",
        "error_dist = {}"
      ],
      "execution_count": null,
      "outputs": []
    },
    {
      "cell_type": "code",
      "metadata": {
        "colab": {
          "base_uri": "https://localhost:8080/"
        },
        "id": "ura8-8PrQoJN",
        "outputId": "c180cd36-2cb9-4adb-c101-00489b953af8"
      },
      "source": [
        "# with all features \n",
        "x_train, x_test , y_train, y_test = train_test_split(data.iloc[:,:4],data.iloc[:,4])\n",
        "clf = RandomForestClassifier(n_estimators=100)\n",
        "clf.fit(x_train, y_train)\n",
        "predicted = clf.predict(x_test)\n",
        "acc_dist[\"all\"] = accuracy_score(predicted, y_test)\n",
        "error_dist[\"all\"] = mean_squared_error(predicted, y_test)\n",
        "print(accuracy_score(predicted, y_test))\n",
        "print(mean_squared_error(predicted, y_test))"
      ],
      "execution_count": null,
      "outputs": [
        {
          "output_type": "stream",
          "name": "stdout",
          "text": [
            "0.9941690962099126\n",
            "0.0058309037900874635\n"
          ]
        }
      ]
    },
    {
      "cell_type": "code",
      "metadata": {
        "colab": {
          "base_uri": "https://localhost:8080/"
        },
        "id": "CNJJeJz2QoMa",
        "outputId": "9437299d-f1de-4570-b418-938e5bcda60e"
      },
      "source": [
        "imp = clf.feature_importances_\n",
        "for i,v in enumerate(imp):\n",
        "  print('Feature: %0d, Score: %5f' % (i,v))"
      ],
      "execution_count": null,
      "outputs": [
        {
          "output_type": "stream",
          "name": "stdout",
          "text": [
            "Feature: 0, Score: 0.560600\n",
            "Feature: 1, Score: 0.237759\n",
            "Feature: 2, Score: 0.150998\n",
            "Feature: 3, Score: 0.050644\n"
          ]
        }
      ]
    },
    {
      "cell_type": "code",
      "metadata": {
        "colab": {
          "base_uri": "https://localhost:8080/"
        },
        "id": "q7uO_8mlQoTX",
        "outputId": "7f33c110-2b5b-4c07-fb40-c1034dec5a99"
      },
      "source": [
        "# Top (D-1) features\n",
        "data3=pd.read_csv(\"data_banknote_authentication.csv\", dtype=str)\n",
        "x_train3, x_test3 , y_train3, y_test3 = train_test_split(data3.iloc[:,:3],data3.iloc[:,4])\n",
        "clf = RandomForestClassifier(n_estimators=100)\n",
        "clf.fit(x_train3, y_train3)\n",
        "predicted = clf.predict(x_test3)\n",
        "acc_dist[\"D-1\"] = accuracy_score(predicted, y_test)\n",
        "error_dist[\"D-1\"] = mean_squared_error(predicted, y_test)\n",
        "print(accuracy_score(predicted, y_test3))\n",
        "print(mean_squared_error(predicted, y_test3))"
      ],
      "execution_count": null,
      "outputs": [
        {
          "output_type": "stream",
          "name": "stdout",
          "text": [
            "0.9912536443148688\n",
            "0.008746355685131196\n"
          ]
        }
      ]
    },
    {
      "cell_type": "code",
      "metadata": {
        "colab": {
          "base_uri": "https://localhost:8080/"
        },
        "id": "hGf5TysTQoWY",
        "outputId": "e39c30fc-95e3-435a-f9b4-6bd2444bc19b"
      },
      "source": [
        "imp = clf.feature_importances_\n",
        "for i,v in enumerate(imp):\n",
        "  print('Feature: %0d, Score: %5f' % (i,v))"
      ],
      "execution_count": null,
      "outputs": [
        {
          "output_type": "stream",
          "name": "stdout",
          "text": [
            "Feature: 0, Score: 0.507292\n",
            "Feature: 1, Score: 0.279899\n",
            "Feature: 2, Score: 0.212809\n"
          ]
        }
      ]
    },
    {
      "cell_type": "code",
      "metadata": {
        "colab": {
          "base_uri": "https://localhost:8080/"
        },
        "id": "pZxkIdL9RFZR",
        "outputId": "a89312ca-7ed8-4c36-b38d-8bb73efac44f"
      },
      "source": [
        "# Top (D-2) features\n",
        "data2=pd.read_csv(\"data_banknote_authentication.csv\", dtype=str)\n",
        "x_train2, x_test2 , y_train2, y_test2 = train_test_split(data2.iloc[:,:2],data2.iloc[:,4])\n",
        "clf = RandomForestClassifier(n_estimators=100)\n",
        "clf.fit(x_train2, y_train2)\n",
        "predicted = clf.predict(x_test2)\n",
        "acc_dist[\"D-2\"] = accuracy_score(predicted, y_test)\n",
        "error_dist[\"D-2\"] = mean_squared_error(predicted, y_test)\n",
        "print(accuracy_score(predicted, y_test2))\n",
        "print(mean_squared_error(predicted, y_test2))"
      ],
      "execution_count": null,
      "outputs": [
        {
          "output_type": "stream",
          "name": "stdout",
          "text": [
            "0.9300291545189504\n",
            "0.06997084548104957\n"
          ]
        }
      ]
    },
    {
      "cell_type": "code",
      "metadata": {
        "colab": {
          "base_uri": "https://localhost:8080/"
        },
        "id": "3GAU_2uoRFg8",
        "outputId": "36e0bfc3-b1ac-406b-8fd5-6cf8f2dbafd8"
      },
      "source": [
        "imp = clf.feature_importances_\n",
        "for i,v in enumerate(imp):\n",
        "  print('Feature: %0d, Score: %5f' % (i,v))"
      ],
      "execution_count": null,
      "outputs": [
        {
          "output_type": "stream",
          "name": "stdout",
          "text": [
            "Feature: 0, Score: 0.634193\n",
            "Feature: 1, Score: 0.365807\n"
          ]
        }
      ]
    },
    {
      "cell_type": "code",
      "metadata": {
        "colab": {
          "base_uri": "https://localhost:8080/"
        },
        "id": "sIwIg0YYRFjm",
        "outputId": "ddf973d9-9411-4c17-a44d-a8ec892019d6"
      },
      "source": [
        "# Top (D-3) features\n",
        "data1=pd.read_csv(\"data_banknote_authentication.csv\", dtype=str)\n",
        "x_train1, x_test1 , y_train1, y_test1 = train_test_split(data1.iloc[:,:1],data1.iloc[:,4])\n",
        "clf = RandomForestClassifier(n_estimators=100)\n",
        "clf.fit(x_train1, y_train1)\n",
        "predicted = clf.predict(x_test1)\n",
        "acc_dist[\"D-3\"] = accuracy_score(predicted, y_test)\n",
        "error_dist[\"D-3\"] = mean_squared_error(predicted, y_test)\n",
        "print(accuracy_score(predicted, y_test1))\n",
        "print(mean_squared_error(predicted, y_test1))"
      ],
      "execution_count": null,
      "outputs": [
        {
          "output_type": "stream",
          "name": "stdout",
          "text": [
            "0.8017492711370262\n",
            "0.19825072886297376\n"
          ]
        }
      ]
    },
    {
      "cell_type": "code",
      "metadata": {
        "colab": {
          "base_uri": "https://localhost:8080/"
        },
        "id": "hR0p107pRFnn",
        "outputId": "fa9f98ef-9337-4f85-fe14-39f7cbab558b"
      },
      "source": [
        "imp = clf.feature_importances_\n",
        "for i,v in enumerate(imp):\n",
        "  print('Feature: %0d, Score: %5f' % (i,v))"
      ],
      "execution_count": null,
      "outputs": [
        {
          "output_type": "stream",
          "name": "stdout",
          "text": [
            "Feature: 0, Score: 1.000000\n"
          ]
        }
      ]
    },
    {
      "cell_type": "code",
      "metadata": {
        "colab": {
          "base_uri": "https://localhost:8080/",
          "height": 297
        },
        "id": "4YOKXppsVJe4",
        "outputId": "eaa74870-42c1-4038-adcd-ca3cf22842fc"
      },
      "source": [
        "pyplot.xlabel(\"number of features\")\n",
        "pyplot.ylabel(\"error rate\")\n",
        "xaxis = list(acc_dist.keys())\n",
        "yaxis = list(error_dist.values())\n",
        "pyplot.plot(xaxis,yaxis)"
      ],
      "execution_count": null,
      "outputs": [
        {
          "output_type": "execute_result",
          "data": {
            "text/plain": [
              "[<matplotlib.lines.Line2D at 0x7f9c87b1ddd0>]"
            ]
          },
          "metadata": {},
          "execution_count": 51
        },
        {
          "output_type": "display_data",
          "data": {
            "image/png": "[encoded data removed]",
            "text/plain": [
              "<Figure size 432x288 with 1 Axes>"
            ]
          },
          "metadata": {
            "needs_background": "light"
          }
        }
      ]
    }
  ]
}